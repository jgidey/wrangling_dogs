{
 "cells": [
  {
   "cell_type": "markdown",
   "metadata": {},
   "source": [
    "# Visualization and Analysis\n",
    " of Wrangled WeRateDogs Data Set \n",
    " \n",
    " by Shan Jafri"
   ]
  },
  {
   "cell_type": "code",
   "execution_count": 2,
   "metadata": {},
   "outputs": [],
   "source": [
    "import matplotlib\n",
    "import matplotlib.pyplot as plt\n",
    "import pandas as pd\n",
    "import datetime as dt\n",
    "import seaborn as sns\n",
    "\n",
    "%matplotlib inline"
   ]
  },
  {
   "cell_type": "code",
   "execution_count": 3,
   "metadata": {},
   "outputs": [],
   "source": [
    "# Change the style of the plots (http://tonysyu.github.io/raw_content/matplotlib-style-gallery/gallery.html)\n",
    "matplotlib.style.use('ggplot')"
   ]
  },
  {
   "cell_type": "code",
   "execution_count": 4,
   "metadata": {},
   "outputs": [
    {
     "name": "stdout",
     "output_type": "stream",
     "text": [
      "<class 'pandas.core.frame.DataFrame'>\n",
      "RangeIndex: 1993 entries, 0 to 1992\n",
      "Data columns (total 14 columns):\n",
      "tweet_id                1993 non-null int64\n",
      "tweet_date              1993 non-null object\n",
      "tweet_source            1993 non-null object\n",
      "tweet_text              1993 non-null object\n",
      "tweet_url               1993 non-null object\n",
      "rating_numerator        1993 non-null float64\n",
      "rating_denominator      1993 non-null float64\n",
      "dog_name                1993 non-null object\n",
      "tweet_favorites         1993 non-null float64\n",
      "tweet_retweets          1993 non-null float64\n",
      "tweet_picture           1993 non-null object\n",
      "dog_description         1993 non-null object\n",
      "predicted_dog           1685 non-null object\n",
      "algorithm_confidence    1993 non-null float64\n",
      "dtypes: float64(5), int64(1), object(8)\n",
      "memory usage: 218.1+ KB\n"
     ]
    }
   ],
   "source": [
    "twitter_master = pd.read_csv('twitter_archive_master.csv')\n",
    "twitter_master.info()"
   ]
  },
  {
   "cell_type": "code",
   "execution_count": 5,
   "metadata": {},
   "outputs": [],
   "source": [
    "# Change the data types\n",
    "\n",
    "twitter_master['tweet_id'] = twitter_master['tweet_id'].astype('str')\n",
    "twitter_master['tweet_date'] = pd.to_datetime(twitter_master['tweet_date'])\n",
    "twitter_master['tweet_url'] = twitter_master['tweet_url'].astype('category')\n",
    "twitter_master['dog_description'] = twitter_master['dog_description'].astype('category')"
   ]
  },
  {
   "cell_type": "markdown",
   "metadata": {},
   "source": [
    "## Correlations"
   ]
  },
  {
   "cell_type": "code",
   "execution_count": 6,
   "metadata": {},
   "outputs": [
    {
     "data": {
      "text/html": [
       "<div>\n",
       "<style scoped>\n",
       "    .dataframe tbody tr th:only-of-type {\n",
       "        vertical-align: middle;\n",
       "    }\n",
       "\n",
       "    .dataframe tbody tr th {\n",
       "        vertical-align: top;\n",
       "    }\n",
       "\n",
       "    .dataframe thead th {\n",
       "        text-align: right;\n",
       "    }\n",
       "</style>\n",
       "<table border=\"1\" class=\"dataframe\">\n",
       "  <thead>\n",
       "    <tr style=\"text-align: right;\">\n",
       "      <th></th>\n",
       "      <th>rating_numerator</th>\n",
       "      <th>rating_denominator</th>\n",
       "      <th>tweet_favorites</th>\n",
       "      <th>tweet_retweets</th>\n",
       "      <th>algorithm_confidence</th>\n",
       "    </tr>\n",
       "  </thead>\n",
       "  <tbody>\n",
       "    <tr>\n",
       "      <th>rating_numerator</th>\n",
       "      <td>1.000000</td>\n",
       "      <td>0.198240</td>\n",
       "      <td>0.015944</td>\n",
       "      <td>0.018167</td>\n",
       "      <td>-0.023075</td>\n",
       "    </tr>\n",
       "    <tr>\n",
       "      <th>rating_denominator</th>\n",
       "      <td>0.198240</td>\n",
       "      <td>1.000000</td>\n",
       "      <td>-0.027347</td>\n",
       "      <td>-0.020346</td>\n",
       "      <td>-0.006151</td>\n",
       "    </tr>\n",
       "    <tr>\n",
       "      <th>tweet_favorites</th>\n",
       "      <td>0.015944</td>\n",
       "      <td>-0.027347</td>\n",
       "      <td>1.000000</td>\n",
       "      <td>0.928997</td>\n",
       "      <td>0.076906</td>\n",
       "    </tr>\n",
       "    <tr>\n",
       "      <th>tweet_retweets</th>\n",
       "      <td>0.018167</td>\n",
       "      <td>-0.020346</td>\n",
       "      <td>0.928997</td>\n",
       "      <td>1.000000</td>\n",
       "      <td>0.032238</td>\n",
       "    </tr>\n",
       "    <tr>\n",
       "      <th>algorithm_confidence</th>\n",
       "      <td>-0.023075</td>\n",
       "      <td>-0.006151</td>\n",
       "      <td>0.076906</td>\n",
       "      <td>0.032238</td>\n",
       "      <td>1.000000</td>\n",
       "    </tr>\n",
       "  </tbody>\n",
       "</table>\n",
       "</div>"
      ],
      "text/plain": [
       "                      rating_numerator  rating_denominator  tweet_favorites  \\\n",
       "rating_numerator              1.000000            0.198240         0.015944   \n",
       "rating_denominator            0.198240            1.000000        -0.027347   \n",
       "tweet_favorites               0.015944           -0.027347         1.000000   \n",
       "tweet_retweets                0.018167           -0.020346         0.928997   \n",
       "algorithm_confidence         -0.023075           -0.006151         0.076906   \n",
       "\n",
       "                      tweet_retweets  algorithm_confidence  \n",
       "rating_numerator            0.018167             -0.023075  \n",
       "rating_denominator         -0.020346             -0.006151  \n",
       "tweet_favorites             0.928997              0.076906  \n",
       "tweet_retweets              1.000000              0.032238  \n",
       "algorithm_confidence        0.032238              1.000000  "
      ]
     },
     "execution_count": 6,
     "metadata": {},
     "output_type": "execute_result"
    }
   ],
   "source": [
    "twitter_master.corr()"
   ]
  },
  {
   "cell_type": "markdown",
   "metadata": {},
   "source": [
    "The strongest correlation is between favorite counts and retweet counts."
   ]
  },
  {
   "cell_type": "code",
   "execution_count": 88,
   "metadata": {},
   "outputs": [
    {
     "data": {
      "text/plain": [
       "Text(0.5,1,'Favorites vs Retweets Scatter Plot')"
      ]
     },
     "execution_count": 88,
     "metadata": {},
     "output_type": "execute_result"
    },
    {
     "data": {
      "image/png": "[encoded data removed]",
      "text/plain": [
       "<Figure size 432x288 with 1 Axes>"
      ]
     },
     "metadata": {},
     "output_type": "display_data"
    }
   ],
   "source": [
    "# Scatter plot \n",
    "\n",
    "twitter_master.plot( kind = 'scatter', x = 'tweet_favorites', y = 'tweet_retweets', \n",
    "                    alpha = .35, color = 'green')\n",
    "plt.xlabel('Favorites')\n",
    "plt.ylabel('Retweets')\n",
    "plt.title('Favorites vs Retweets Scatter Plot')"
   ]
  },
  {
   "cell_type": "markdown",
   "metadata": {},
   "source": [
    "The figure above show a positive linear correlation between retweets and favorites."
   ]
  },
  {
   "cell_type": "markdown",
   "metadata": {},
   "source": [
    "## Dog description"
   ]
  },
  {
   "cell_type": "code",
   "execution_count": 90,
   "metadata": {},
   "outputs": [
    {
     "data": {
      "text/plain": [
       "Text(0.5,1,'Number of Tweets for types of Dog Description')"
      ]
     },
     "execution_count": 90,
     "metadata": {},
     "output_type": "execute_result"
    },
    {
     "data": {
      "image/png": "[encoded data removed]",
      "text/plain": [
       "<Figure size 432x288 with 1 Axes>"
      ]
     },
     "metadata": {},
     "output_type": "display_data"
    }
   ],
   "source": [
    "# A bar graph \n",
    "twitter_master.dog_description.value_counts()[1:5].plot(kind = 'bar')\n",
    "plt.xlabel(\"Dog Description\")\n",
    "plt.ylabel(\"Count\")\n",
    "plt.title(\"Number of Tweets for types of Dog Description\")"
   ]
  },
  {
   "cell_type": "markdown",
   "metadata": {},
   "source": [
    "The mean and standard deviation of favorite and retweet counts for the different type of dog dscriptions."
   ]
  },
  {
   "cell_type": "code",
   "execution_count": 104,
   "metadata": {},
   "outputs": [
    {
     "data": {
      "text/html": [
       "<div>\n",
       "<style scoped>\n",
       "    .dataframe tbody tr th:only-of-type {\n",
       "        vertical-align: middle;\n",
       "    }\n",
       "\n",
       "    .dataframe tbody tr th {\n",
       "        vertical-align: top;\n",
       "    }\n",
       "\n",
       "    .dataframe thead th {\n",
       "        text-align: right;\n",
       "    }\n",
       "</style>\n",
       "<table border=\"1\" class=\"dataframe\">\n",
       "  <thead>\n",
       "    <tr style=\"text-align: right;\">\n",
       "      <th></th>\n",
       "      <th>tweet_retweets</th>\n",
       "      <th>tweet_favorites</th>\n",
       "    </tr>\n",
       "    <tr>\n",
       "      <th>dog_description</th>\n",
       "      <th></th>\n",
       "      <th></th>\n",
       "    </tr>\n",
       "  </thead>\n",
       "  <tbody>\n",
       "    <tr>\n",
       "      <th>None</th>\n",
       "      <td>2488.068761</td>\n",
       "      <td>8337.161826</td>\n",
       "    </tr>\n",
       "    <tr>\n",
       "      <th>doggo</th>\n",
       "      <td>7128.365079</td>\n",
       "      <td>20182.269841</td>\n",
       "    </tr>\n",
       "    <tr>\n",
       "      <th>floofer</th>\n",
       "      <td>4548.500000</td>\n",
       "      <td>13244.875000</td>\n",
       "    </tr>\n",
       "    <tr>\n",
       "      <th>pupper</th>\n",
       "      <td>2341.047170</td>\n",
       "      <td>7281.462264</td>\n",
       "    </tr>\n",
       "    <tr>\n",
       "      <th>puppo</th>\n",
       "      <td>6867.173913</td>\n",
       "      <td>23007.739130</td>\n",
       "    </tr>\n",
       "  </tbody>\n",
       "</table>\n",
       "</div>"
      ],
      "text/plain": [
       "                 tweet_retweets  tweet_favorites\n",
       "dog_description                                 \n",
       "None                2488.068761      8337.161826\n",
       "doggo               7128.365079     20182.269841\n",
       "floofer             4548.500000     13244.875000\n",
       "pupper              2341.047170      7281.462264\n",
       "puppo               6867.173913     23007.739130"
      ]
     },
     "execution_count": 104,
     "metadata": {},
     "output_type": "execute_result"
    }
   ],
   "source": [
    "# Mean\n",
    "twitter_master.groupby('dog_description')['tweet_retweets', 'tweet_favorites'].mean()"
   ]
  },
  {
   "cell_type": "code",
   "execution_count": 103,
   "metadata": {},
   "outputs": [
    {
     "data": {
      "text/html": [
       "<div>\n",
       "<style scoped>\n",
       "    .dataframe tbody tr th:only-of-type {\n",
       "        vertical-align: middle;\n",
       "    }\n",
       "\n",
       "    .dataframe tbody tr th {\n",
       "        vertical-align: top;\n",
       "    }\n",
       "\n",
       "    .dataframe thead th {\n",
       "        text-align: right;\n",
       "    }\n",
       "</style>\n",
       "<table border=\"1\" class=\"dataframe\">\n",
       "  <thead>\n",
       "    <tr style=\"text-align: right;\">\n",
       "      <th></th>\n",
       "      <th>tweet_retweets</th>\n",
       "      <th>tweet_favorites</th>\n",
       "    </tr>\n",
       "    <tr>\n",
       "      <th>dog_description</th>\n",
       "      <th></th>\n",
       "      <th></th>\n",
       "    </tr>\n",
       "  </thead>\n",
       "  <tbody>\n",
       "    <tr>\n",
       "      <th>None</th>\n",
       "      <td>3936.122887</td>\n",
       "      <td>11455.162146</td>\n",
       "    </tr>\n",
       "    <tr>\n",
       "      <th>doggo</th>\n",
       "      <td>13818.143964</td>\n",
       "      <td>27240.426681</td>\n",
       "    </tr>\n",
       "    <tr>\n",
       "      <th>floofer</th>\n",
       "      <td>5443.451872</td>\n",
       "      <td>10183.487018</td>\n",
       "    </tr>\n",
       "    <tr>\n",
       "      <th>pupper</th>\n",
       "      <td>3671.304332</td>\n",
       "      <td>11411.970883</td>\n",
       "    </tr>\n",
       "    <tr>\n",
       "      <th>puppo</th>\n",
       "      <td>10337.712542</td>\n",
       "      <td>29731.467450</td>\n",
       "    </tr>\n",
       "  </tbody>\n",
       "</table>\n",
       "</div>"
      ],
      "text/plain": [
       "                 tweet_retweets  tweet_favorites\n",
       "dog_description                                 \n",
       "None                3936.122887     11455.162146\n",
       "doggo              13818.143964     27240.426681\n",
       "floofer             5443.451872     10183.487018\n",
       "pupper              3671.304332     11411.970883\n",
       "puppo              10337.712542     29731.467450"
      ]
     },
     "execution_count": 103,
     "metadata": {},
     "output_type": "execute_result"
    }
   ],
   "source": [
    "# Standard Deviations\n",
    "twitter_master.groupby('dog_description')['tweet_retweets', 'tweet_favorites'].std()"
   ]
  },
  {
   "cell_type": "markdown",
   "metadata": {},
   "source": [
    "## Most Predicted Breed"
   ]
  },
  {
   "cell_type": "code",
   "execution_count": 102,
   "metadata": {},
   "outputs": [
    {
     "data": {
      "text/plain": [
       "Text(0,0.5,'Dog breed')"
      ]
     },
     "execution_count": 102,
     "metadata": {},
     "output_type": "execute_result"
    },
    {
     "data": {
      "image/png": "[encoded data removed]",
      "text/plain": [
       "<Figure size 576x360 with 1 Axes>"
      ]
     },
     "metadata": {},
     "output_type": "display_data"
    }
   ],
   "source": [
    "twitter_master.predicted_dog.value_counts()[:20].plot(kind = 'barh', color = 'blue', \n",
    "                                                      figsize = (8,5))\n",
    "plt.title(\"Top 20 most predicted dog breed\")\n",
    "plt.xlabel(\"Count\")\n",
    "plt.ylabel(\"Dog breed\")"
   ]
  },
  {
   "cell_type": "markdown",
   "metadata": {},
   "source": [
    "## Conclusion"
   ]
  },
  {
   "cell_type": "markdown",
   "metadata": {},
   "source": [
    "After wrangling the tweets from twitter account WeRateDogs data set, I found a positive and strong correlation between retweet and favorite counts of 0.928. The most used dog description was 'pupper' with the largest average retweets count. The dog decription 'puppo' had the second lowest count but the largest average favorites count. The top 3 most likely dog breeds the image prediction algorithms guessed were 'golden retriever', 'labrador retriever, and 'pembroke'"
   ]
  },
  {
   "cell_type": "code",
   "execution_count": null,
   "metadata": {},
   "outputs": [],
   "source": []
  }
 ],
 "metadata": {
  "kernelspec": {
   "display_name": "Python [conda env:anaconda3]",
   "language": "python",
   "name": "conda-env-anaconda3-py"
  },
  "language_info": {
   "codemirror_mode": {
    "name": "ipython",
    "version": 3
   },
   "file_extension": ".py",
   "mimetype": "text/x-python",
   "name": "python",
   "nbconvert_exporter": "python",
   "pygments_lexer": "ipython3",
   "version": "3.6.5"
  }
 },
 "nbformat": 4,
 "nbformat_minor": 2
}
